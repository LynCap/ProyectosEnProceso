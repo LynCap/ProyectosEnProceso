import pandas as pd
from matplotlib import pyplot as plt
import matplotlib.pyplot as plt
#import seaborn as sns

####
#
# Pregunta 1
#

hoja1 = pd.read_csv('Qatar2022.csv')
header = hoja1.columns.values
hoja2 = pd.read_csv('Qatar2022-221029.csv')
hoja3 = pd.read_csv('Qatar2022-221031.csv')
hoja4 = pd.read_csv('Qatar2022-221104.csv')
hoja5 = pd.read_csv('Qatar2022-221107.csv')

total1 = 0
total2 = 0
total3 = 0
total4 = 0
total5 = 0

for i in range (0, 32):
    for j in range(2, len(header)):
        total1 += hoja1[header[j]][i]
print(total1)

for i in range (0, 32):
    for j in range(2, len(header)):
        total2 += hoja2[header[j]][i]
print(total2)

for i in range (0, 32):
    for j in range(2, len(header)):
        total3 += hoja3[header[j]][i]
print(total3)

for i in range (0, 32):
    for j in range(2, len(header)):
        total4 += hoja4[header[j]][i]
print(total4)

for i in range (0, 32):
    for j in range(2, len(header)):
        total5 += hoja5[header[j]][i]
print(total5)

print("Semana 1: ", 100 - total1*100/(total2), "%")
print("Semana 2: ", 100 - total2*100/(total3), "%")
print("Semana 4: ", 100 - total3*100/(total4), "%")
print("Semana 5: ", 100 - total4*100/(total5), "%")

hoja1 = pd.read_csv('Qatar2022.csv')
header1 = hoja1.columns.values
hoja2 = pd.read_csv('Qatar2022-221107.csv')
header2 = hoja2.columns.values

#print(header)
#for i in range (len(header)): 
#    a.append([hoja1[header[i]]])
#    print(hoja1[header[i]][0])
#print(a)

grupos1=[['A'],['B'],['C'],['D'],['E'],['F'],['G'],['H']]
grupos2=[['A'],['B'],['C'],['D'],['E'],['F'],['G'],['H']]
for i in range (0,32):
    if(hoja1['Grupo'][i] == "A"):
        grupos1[0] += [hoja1[header1[0]][i]]
    if(hoja1['Grupo'][i] == "B"):
        grupos1[1] += [hoja1[header1[0]][i]]
    if(hoja1['Grupo'][i] == "C"):
        grupos1[2] += [hoja1[header1[0]][i]]
    if(hoja1['Grupo'][i] == "D"):
        grupos1[3] += [hoja1[header1[0]][i]]
    if(hoja1['Grupo'][i] == "E"):
        grupos1[4] += [hoja1[header1[0]][i]]
    if(hoja1['Grupo'][i] == "F"):
        grupos1[5] += [hoja1[header1[0]][i]]
    if(hoja1['Grupo'][i] == "G"):
        grupos1[6] += [hoja1[header1[0]][i]]
    if(hoja1['Grupo'][i] == "H"):
        grupos1[7] += [hoja1[header1[0]][i]]
#print(grupos1)

for i in range (0,32):
    if(hoja2['Grupo'][i] == "A"):
        grupos2[0] += [hoja2[header2[0]][i]]
    if(hoja2['Grupo'][i] == "B"):
        grupos2[1] += [hoja2[header2[0]][i]]
    if(hoja2['Grupo'][i] == "C"):
        grupos2[2] += [hoja2[header2[0]][i]]
    if(hoja2['Grupo'][i] == "D"):
        grupos2[3] += [hoja2[header2[0]][i]]
    if(hoja2['Grupo'][i] == "E"):
        grupos2[4] += [hoja2[header2[0]][i]]
    if(hoja2['Grupo'][i] == "F"):
        grupos2[5] += [hoja2[header2[0]][i]]
    if(hoja2['Grupo'][i] == "G"):
        grupos2[6] += [hoja2[header2[0]][i]]
    if(hoja2['Grupo'][i] == "H"):
        grupos2[7] += [hoja2[header2[0]][i]]
#print(grupos2)

####
#
# Preguntas 2 - 5
#

postales = []
for i in range(0, 32):
    sumaActual=0
    postales += [[hoja2[header2[0]][i]]]
    for j in range(2,len(header2)):
        sumaActual += hoja2[header2[j]][i]
    postales[len(postales)-1].append(sumaActual)
#print(postales)

# Primer recorrido de la lista postales
for i in range(len(postales)):
    # Segundo recorrido para verificar
    for j in range(i + 1, len(postales)):
        # Cambio el orden de las postales si una es mayor que la otra
        if postales[i][1] < postales[j][1]:
            postales[i],postales[j]=postales[j],postales[i]
#print(postales)

top5 = postales[:5]
min5 = postales[len(postales)-5:]

print("Top 5 grupos con mayor cantidad: ", top5)
print("Top 5 grupos con menor cantidad: ", min5)

postalesRepetidas = []
for i in range (0, 32):
    totalRepetidas = 0
    postalesRepetidas += [[hoja2[header2[0]][i]]]
    for j in range(2, len(header)):
        if hoja2[header[j]][i] > 1:
            totalRepetidas += hoja2[header[j]][i] - 1 
    postalesRepetidas[len(postalesRepetidas)-1].append(totalRepetidas)
#print(postalesRepetidas)

# Primer recorrido de la lista postales
for i in range(len(postalesRepetidas)):
    # Segundo recorrido para verificar
    for j in range(i + 1, len(postalesRepetidas)):
        # Cambio el orden de las postales si una es mayor que la otra
        if postalesRepetidas[i][1] < postalesRepetidas[j][1]:
            postalesRepetidas[i],postalesRepetidas[j] = postalesRepetidas[j],postalesRepetidas[i]
#print(postalesRepetidas)

top5Rep = postalesRepetidas[:5]
min5Rep = postalesRepetidas[len(postalesRepetidas)-5:]
print("Top 5 grupos con mayor cantidad repetida: ", top5Rep)
print("Top 5 grupos con mayor cantidad repetida: ", min5Rep)

####
#
# Preguntas 6 - 9
#

distribucion = []
for i in range (0, 32):
    tengo = 0
    noTengo = 0
    repetido = 0
    distribucion += [[hoja2[header2[0]][i]]]
    for j in range(2, len(header)):
        if hoja2[header[j]][i] == 1:
            tengo += 1 
        if hoja2[header[j]][i] == 0:
            noTengo += 1
        if hoja2[header[j]][i] > 1:
            repetido += 1 
    distribucion[len(distribucion)-1].append(round(tengo*100/19, 2))
    distribucion[len(distribucion)-1].append(round(noTengo*100/19, 2))
    distribucion[len(distribucion)-1].append(round(repetido*100/19, 2))
print(distribucion)


escudos = []
for i in range (0, 32):
    tengo = 0
    noTengo = 0
    repetido = 0
    escudos += [[hoja2[header2[0]][i]]]
    if hoja2[header[2]][i] == 1:
        tengo += 1 
    if hoja2[header[2]][i] == 0:
        noTengo += 1
    if hoja2[header[2]][i] > 1:
        repetido += 1 
    escudos[len(escudos)-1].append(round(tengo*100/1, 2))
    escudos[len(escudos)-1].append(round(noTengo*100/1, 2))
    escudos[len(escudos)-1].append(round(repetido*100/1, 2))
print(escudos)

porteros = []
for i in range (0, 32):
    tengo = 0
    noTengo = 0
    repetido = 0
    porteros += [[hoja2[header2[0]][i]]]
    if hoja2[header[3]][i] == 1 or hoja2[header[4]][i] == 1:
        tengo += 1 
    if hoja2[header[3]][i] == 0 or hoja2[header[4]][i] == 0 :
        noTengo += 1
    if hoja2[header[3]][i] > 1 or hoja2[header[4]][i] > 1:
        repetido += 1 
    porteros[len(porteros)-1].append(round(tengo*100/2, 2))
    porteros[len(porteros)-1].append(round(noTengo*100/2, 2))
    porteros[len(porteros)-1].append(round(repetido*100/2, 2))
print(porteros)

jugadores = [0,0,0,0,0]
for i in range (0, 32):
    for j in range(2, len(header)):
        # Lionel Messi
        if hoja2[header[20]][8] == 1 or hoja2[header[20]][8] > 1 :
            jugadores[0] = 1
        # Cristiano Ronaldo
        if hoja2[header[18]][28] == 1 or hoja2[header[20]][8] > 1 :
            jugadores[1] = 1
        # Mbappe
        if hoja2[header[19]][12] == 1 or hoja2[header[20]][8] > 1 :
            jugadores[2] = 1
        # Karim Benzema
        if hoja2[header[16]][12] == 1 or hoja2[header[20]][8] > 1 :
            jugadores[3] = 1
        # Neymar
        if hoja2[header[17]][24] == 1 or hoja2[header[20]][8] > 1 :
            jugadores[4] = 1
print(jugadores)
